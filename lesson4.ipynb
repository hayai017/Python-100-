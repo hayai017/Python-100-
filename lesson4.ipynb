{
  "nbformat": 4,
  "nbformat_minor": 0,
  "metadata": {
    "colab": {
      "provenance": []
    },
    "kernelspec": {
      "name": "python3",
      "display_name": "Python 3"
    },
    "language_info": {
      "name": "python"
    }
  },
  "cells": [
    {
      "cell_type": "markdown",
      "metadata": {
        "id": "Et0Mn92pvi1L"
      },
      "source": [
        "# 文字型【10問】"
      ]
    },
    {
      "cell_type": "markdown",
      "metadata": {
        "id": "f1U09_2yhNAa"
      },
      "source": [
        "## 問題16. "
      ]
    },
    {
      "cell_type": "markdown",
      "metadata": {
        "id": "xiOrQTAQvnbJ"
      },
      "source": [
        "入力した文字列と、その長さを出力するプログラムを作成してください。\n",
        "\n",
        "※組み込み関数を使わずに解いてみてください。\n",
        "\n",
        "```\n",
        "文字を入力してください > Python\n",
        "Pythonの文字数 : 6\n",
        "```"
      ]
    },
    {
      "cell_type": "code",
      "metadata": {
        "id": "bzcenLbCvrsB",
        "colab": {
          "base_uri": "https://localhost:8080/"
        },
        "outputId": "68093bb8-9a6e-4a53-de5f-9bb004adbf5f"
      },
      "source": [
        "a = input('文字を入力してください > ')\n",
        "\n",
        "numa = len(a)\n",
        "\n",
        "print(f'{a}の文字数：{numa}')"
      ],
      "execution_count": 3,
      "outputs": [
        {
          "output_type": "stream",
          "name": "stdout",
          "text": [
            "文字を入力してください > Python\n",
            "Pythonの文字数：6\n"
          ]
        }
      ]
    },
    {
      "cell_type": "code",
      "source": [
        "word = input('文字を入力してください > ')\n",
        "count = 0\n",
        "\n",
        "for _ in word:\n",
        "  count += 1\n",
        "\n",
        "'''memo\n",
        "forループでfor c in word など使わない文字があれば'_'で置き換えることがある\n",
        "'''\n",
        "print(f'{word}の文字数：{count}')"
      ],
      "metadata": {
        "colab": {
          "base_uri": "https://localhost:8080/"
        },
        "id": "XBD-IHgZ9quS",
        "outputId": "baaa3a90-5faa-47bc-897e-a3842883b058"
      },
      "execution_count": 5,
      "outputs": [
        {
          "output_type": "stream",
          "name": "stdout",
          "text": [
            "文字を入力してください > Python\n",
            "Pythonの文字数：6\n"
          ]
        }
      ]
    },
    {
      "cell_type": "markdown",
      "metadata": {
        "id": "6SBfR6d5hOiv"
      },
      "source": [
        "## 問題17. "
      ]
    },
    {
      "cell_type": "markdown",
      "metadata": {
        "id": "u1HAwdMQxKwD"
      },
      "source": [
        "入力した文字列の、最初と最後の文字を出力するプログラムを作成してください。\n",
        "\n",
        "```\n",
        "文字を入力してください > Python\n",
        "Pythonの最初の文字 : P\n",
        "Pythonの最後の文字 : n\n",
        "```"
      ]
    },
    {
      "cell_type": "code",
      "metadata": {
        "id": "5am9dFcuvwsy",
        "colab": {
          "base_uri": "https://localhost:8080/"
        },
        "outputId": "89db961a-5bad-4519-8dc4-09e2a4e84ee6"
      },
      "source": [
        "word1 = input('文字を入力してください > ')\n",
        "\n",
        "A = word1[0]\n",
        "\n",
        "Z = word1[-1:]\n",
        "\n",
        "'''\n",
        "後ろから数えるときは[-1]\n",
        "'''\n",
        "\n",
        "print(f'{word1}の最初の文字 : {A}')\n",
        "print(f'{word1}の最初の文字 : {Z}')"
      ],
      "execution_count": 8,
      "outputs": [
        {
          "output_type": "stream",
          "name": "stdout",
          "text": [
            "文字を入力してください > Python\n",
            "Pythonの最初の文字 : P\n",
            "Pythonの最初の文字 : n\n"
          ]
        }
      ]
    },
    {
      "cell_type": "markdown",
      "metadata": {
        "id": "HTL6qr0XhQRt"
      },
      "source": [
        "## 問題18. "
      ]
    },
    {
      "cell_type": "markdown",
      "metadata": {
        "id": "RaUGDmwHxYZU"
      },
      "source": [
        "入力した文字列に登場する文字の、出現頻度をカウントするプログラムを作成してください。\n",
        "\n",
        "```\n",
        "文字列を入力してください > PythonPractice\n",
        "{'P': 2, 'y': 1, 't': 2, 'h': 1, 'o': 1, 'n': 1, 'r': 1, 'a': 1, 'c': 2, 'i': 1, 'e': 1}\n",
        "```"
      ]
    },
    {
      "cell_type": "code",
      "metadata": {
        "id": "fYEG8x5WxQeJ",
        "colab": {
          "base_uri": "https://localhost:8080/"
        },
        "outputId": "c3b45388-0407-4f42-88c0-e9667542968e"
      },
      "source": [
        "import collections\n",
        "wordstr = input('文字列を入力してください >')\n",
        "\n",
        "c = collections.Counter(wordstr)\n",
        "print(c)"
      ],
      "execution_count": 9,
      "outputs": [
        {
          "output_type": "stream",
          "name": "stdout",
          "text": [
            "文字列を入力してください >PythonPractice\n",
            "Counter({'P': 2, 't': 2, 'c': 2, 'y': 1, 'h': 1, 'o': 1, 'n': 1, 'r': 1, 'a': 1, 'i': 1, 'e': 1})\n"
          ]
        }
      ]
    },
    {
      "cell_type": "code",
      "source": [
        "wordstr = input('文字列を入力してください >')\n",
        "\n",
        "d = {}\n",
        "for s in wordstr:\n",
        "  if s in d.keys():\n",
        "    d[s] += 1\n",
        "  else:\n",
        "    d[s] = 1\n",
        "  \n",
        "print(d)"
      ],
      "metadata": {
        "colab": {
          "base_uri": "https://localhost:8080/"
        },
        "id": "jSMk8q9c_1Dw",
        "outputId": "625d73f3-34c9-4485-f6fd-6f9f0c197ac0"
      },
      "execution_count": 12,
      "outputs": [
        {
          "output_type": "stream",
          "name": "stdout",
          "text": [
            "文字列を入力してください >PythonPractice\n",
            "{'P': 2, 'y': 1, 't': 2, 'h': 1, 'o': 1, 'n': 1, 'r': 1, 'a': 1, 'c': 2, 'i': 1, 'e': 1}\n"
          ]
        }
      ]
    },
    {
      "cell_type": "markdown",
      "metadata": {
        "id": "kVXSG69IhRuC"
      },
      "source": [
        "## 問題19. "
      ]
    },
    {
      "cell_type": "markdown",
      "metadata": {
        "id": "Q0GqoXbbxruH"
      },
      "source": [
        "入力した英単語から、母音(a, i, u, e, o)を取り除くプログラムを作成してください。\n",
        "\n",
        "```\n",
        "文字列を入力してください > Python\n",
        "作成した文字列 : Pythn\n",
        "```"
      ]
    },
    {
      "cell_type": "code",
      "metadata": {
        "id": "rgthOFV_xrsI",
        "colab": {
          "base_uri": "https://localhost:8080/"
        },
        "outputId": "b6561ef1-be15-4c6d-cbe4-3b9cfa30b592"
      },
      "source": [
        "wordeng = input('文字列を入力してください >')\n",
        "\n",
        "answord=[]\n",
        "\n",
        "v = ['a','i','u','e','o']\n",
        "\n",
        "for w in wordeng:\n",
        "  if w not in v:\n",
        "    answord.append(w)\n",
        "\n",
        "\n",
        "\n",
        "\n",
        "print(f'作成した文字列：{answord}')"
      ],
      "execution_count": 14,
      "outputs": [
        {
          "output_type": "stream",
          "name": "stdout",
          "text": [
            "文字列を入力してください >Python\n",
            "作成した文字列：['P', 'y', 't', 'h', 'n']\n"
          ]
        }
      ]
    },
    {
      "cell_type": "code",
      "source": [
        "wordeng = input('文字列を入力してください >')\n",
        "\n",
        "answord=''\n",
        "\n",
        "v = ['a','i','u','e','o']\n",
        "\n",
        "for w in wordeng:\n",
        "  if w in v:\n",
        "    continue\n",
        "  answord += w\n",
        "\n",
        "\n",
        "\n",
        "\n",
        "print(f'作成した文字列：{answord}')"
      ],
      "metadata": {
        "colab": {
          "base_uri": "https://localhost:8080/"
        },
        "id": "tsz8ISMAQIRR",
        "outputId": "33145df0-0cef-4ee2-e93e-f5501a3b4b12"
      },
      "execution_count": 17,
      "outputs": [
        {
          "output_type": "stream",
          "name": "stdout",
          "text": [
            "文字列を入力してください >Python\n",
            "作成した文字列：Pythn\n"
          ]
        }
      ]
    },
    {
      "cell_type": "markdown",
      "metadata": {
        "id": "VOALYEnVyAM2"
      },
      "source": [
        "別解"
      ]
    },
    {
      "cell_type": "code",
      "metadata": {
        "id": "IFJht5dxyH6f",
        "colab": {
          "base_uri": "https://localhost:8080/"
        },
        "outputId": "74dd3b35-eb82-47e0-9995-da69e0222243"
      },
      "source": [
        "wordeng = input('文字列を入力してください >')\n",
        "\n",
        "v = ['a','i','u','e','o']\n",
        "\n",
        "for w in v:\n",
        "  wordeng = wordeng.replace(w,'')\n",
        "\n",
        "\n",
        "\n",
        "\n",
        "print(f'作成した文字列：{wordeng}')"
      ],
      "execution_count": 20,
      "outputs": [
        {
          "output_type": "stream",
          "name": "stdout",
          "text": [
            "文字列を入力してください >Python\n",
            "作成した文字列：Pythn\n"
          ]
        }
      ]
    },
    {
      "cell_type": "markdown",
      "metadata": {
        "id": "0ERJEJonhTJC"
      },
      "source": [
        "## 問題20. "
      ]
    },
    {
      "cell_type": "markdown",
      "metadata": {
        "id": "MJo0GfuoyXM2"
      },
      "source": [
        "入力した英単語を大文字に変換するプログラムを作成してください。\n",
        "\n",
        "```\n",
        "英単語を入力してください > Python\n",
        "変換後の文字列 : PYTHON\n",
        "```"
      ]
    },
    {
      "cell_type": "code",
      "metadata": {
        "id": "h0zwTmYNyQS0",
        "colab": {
          "base_uri": "https://localhost:8080/"
        },
        "outputId": "aa2a0eec-5127-45d0-a4cd-ffcd0344f282"
      },
      "source": [
        "wordb = input('英単語を入力してください >')\n",
        "\n",
        "\n",
        "\n",
        "worda = wordb.upper()\n",
        "\n",
        "print(f'変換後の文字列 : {worda}')"
      ],
      "execution_count": 21,
      "outputs": [
        {
          "output_type": "stream",
          "name": "stdout",
          "text": [
            "英単語を入力してください >Python\n",
            "変換後の文字列 : PYTHON\n"
          ]
        }
      ]
    },
    {
      "cell_type": "markdown",
      "metadata": {
        "id": "t2_zAfKjhUg1"
      },
      "source": [
        "## 問題21. "
      ]
    },
    {
      "cell_type": "markdown",
      "metadata": {
        "id": "P37-P2zCyjkE"
      },
      "source": [
        "入力した英単語の先頭1文字が、小文字だったら大文字に変換、大文字だったら2回反復するプログラムを作成してください。\n",
        "\n",
        "<br>\n",
        "\n",
        "大文字の例：\n",
        "```\n",
        "文字列を入力してください > Python\n",
        "変換後の文字列 : PythonPython\n",
        "```\n",
        "\n",
        "小文字の例：\n",
        "```\n",
        "文字列を入力してください > python\n",
        "変換後の文字列 : Python\n",
        "```"
      ]
    },
    {
      "cell_type": "code",
      "metadata": {
        "id": "T_4GH8zwypaW",
        "colab": {
          "base_uri": "https://localhost:8080/"
        },
        "outputId": "f600477a-8975-450a-f594-038339b68cd6"
      },
      "source": [
        "word = input('文字列を入力してください > ')\n",
        "\n",
        "if word[0] == word[0].upper():\n",
        "  word += word\n",
        "else:\n",
        "  word = word[0].upper() + word[1:]\n",
        "\n",
        "\n",
        "print(f'変換後の文字列 : {word}')"
      ],
      "execution_count": 4,
      "outputs": [
        {
          "output_type": "stream",
          "name": "stdout",
          "text": [
            "文字列を入力してください > Python\n",
            "変換後の文字列 : PythonPython\n"
          ]
        }
      ]
    },
    {
      "cell_type": "code",
      "source": [
        "word = input('文字列を入力してください > ')\n",
        "\n",
        "if word[0].islower():\n",
        "  word = word[0].upper() + word[1:]\n",
        "elif word[0].isupper():\n",
        "  word = word*2\n",
        "\n",
        "print(f'変換後の文字列：{word}')"
      ],
      "metadata": {
        "colab": {
          "base_uri": "https://localhost:8080/"
        },
        "id": "XchGUKcICcvr",
        "outputId": "8e8ecdbb-eae6-4402-d9b8-14fda8501b20"
      },
      "execution_count": 5,
      "outputs": [
        {
          "output_type": "stream",
          "name": "stdout",
          "text": [
            "文字列を入力してください > python\n",
            "変換後の文字列：Python\n"
          ]
        }
      ]
    },
    {
      "cell_type": "markdown",
      "metadata": {
        "id": "ffUc6X3ShV6g"
      },
      "source": [
        "## 問題22. "
      ]
    },
    {
      "cell_type": "markdown",
      "metadata": {
        "id": "aiOFrSoAzEbq"
      },
      "source": [
        "2つの文字列を入力して、重複する部分だけ出力するプログラムを作成してください。\n",
        "\n",
        "```\n",
        "1つ目の文字列を入力してください > Python\n",
        "2つ目の文字列を入力してください > PHP\n",
        "重複する文字列 : P\n",
        "```"
      ]
    },
    {
      "cell_type": "code",
      "metadata": {
        "id": "nXjhF0ESzEad",
        "colab": {
          "base_uri": "https://localhost:8080/"
        },
        "outputId": "23257e9e-d7f8-44e4-9cab-17b4f36b5435"
      },
      "source": [
        "word1 = input('1つ目の文字列を入力してください >')\n",
        "word2 = input('2つ目の文字列を入力してください >')\n",
        "\n",
        "wordq = ''\n",
        "for i in word1:\n",
        "  for w in word2:\n",
        "    if i == w:\n",
        "      wordq += i\n",
        "\n",
        "print(f'重複する文字列 : {wordq}')"
      ],
      "execution_count": 6,
      "outputs": [
        {
          "output_type": "stream",
          "name": "stdout",
          "text": [
            "1つ目の文字列を入力してください >Python\n",
            "2つ目の文字列を入力してください >PHP\n",
            "重複する文字列 : PP\n"
          ]
        }
      ]
    },
    {
      "cell_type": "code",
      "source": [
        "word1 = input('1つ目の文字列を入力してください >')\n",
        "word2 = input('2つ目の文字列を入力してください >')\n",
        "\n",
        "wordq = ''\n",
        "for i in word1:\n",
        "  if i in word2 and i not in wordq:\n",
        "    wordq += i\n",
        "\n",
        "print(f'重複する文字列 : {wordq}')"
      ],
      "metadata": {
        "colab": {
          "base_uri": "https://localhost:8080/"
        },
        "id": "dHkp9jRfEYCR",
        "outputId": "204933cb-25ec-4837-f4c8-792901e39bbe"
      },
      "execution_count": 8,
      "outputs": [
        {
          "output_type": "stream",
          "name": "stdout",
          "text": [
            "1つ目の文字列を入力してください >PHP\n",
            "2つ目の文字列を入力してください >Python\n",
            "重複する文字列 : P\n"
          ]
        }
      ]
    },
    {
      "cell_type": "markdown",
      "metadata": {
        "id": "K2c8I1AhhXLP"
      },
      "source": [
        "## 問題23. "
      ]
    },
    {
      "cell_type": "markdown",
      "metadata": {
        "id": "V_1fOZCUzEXr"
      },
      "source": [
        "2つの文字列を入力して、重複する「英単語」を出力するプログラムを作成してください。\n",
        "\n",
        "※少し難しいですが、出力の形に注目すると、答えが見えてくるはずです。\n",
        "\n",
        "```\n",
        "1つ目の英文を入力してください > Python is hard.\n",
        "2つ目の英文を入力してください > PHP is easy.\n",
        "重複する英単語 : ['is']\n",
        "```"
      ]
    },
    {
      "cell_type": "code",
      "metadata": {
        "id": "Iu7fXX2RyvS-",
        "colab": {
          "base_uri": "https://localhost:8080/"
        },
        "outputId": "b73affd3-6262-474e-8fd7-1f1a261777a3"
      },
      "source": [
        "word1 = input('1つ目の文字列を入力してください >').split()\n",
        "word2 = input('2つ目の文字列を入力してください >').split()\n",
        "\n",
        "wordq = []\n",
        "for i in word1:\n",
        "  if i in word2 and i not in wordq:\n",
        "    wordq.append(i)\n",
        "\n",
        "print(f'重複する英単語 : {wordq}')"
      ],
      "execution_count": 12,
      "outputs": [
        {
          "output_type": "stream",
          "name": "stdout",
          "text": [
            "1つ目の文字列を入力してください >python is hard\n",
            "2つ目の文字列を入力してください >php is easy\n",
            "重複する英単語 : ['is']\n"
          ]
        }
      ]
    },
    {
      "cell_type": "markdown",
      "metadata": {
        "id": "BLYsA7xbhYb2"
      },
      "source": [
        "## 問題24. "
      ]
    },
    {
      "cell_type": "markdown",
      "metadata": {
        "id": "5f2Ol3lNz0A8"
      },
      "source": [
        "入力した英単語の中央に、@を差し込んで出力するプログラムを作成してください。\n",
        "\n",
        "なお、入力した英単語の長さが奇数なら、真ん中のアルファベットを@に変換してください。\n",
        "\n",
        "<br>\n",
        "\n",
        "英単語の長さが偶数\n",
        "```\n",
        "英単語を入力してください > Python\n",
        "変換した英単語 : Pyt@hon\n",
        "```\n",
        "\n",
        "英単語の長さが奇数\n",
        "```\n",
        "英単語を入力してください > PHP\n",
        "変換した英単語 : P@P\n",
        "```"
      ]
    },
    {
      "cell_type": "code",
      "metadata": {
        "id": "ZC7T4KgLzol2",
        "colab": {
          "base_uri": "https://localhost:8080/"
        },
        "outputId": "cd53c7b7-29b6-4ec3-ccbe-a210362f5f9b"
      },
      "source": [
        "word = input('英単語を入力してください > ')\n",
        "\n",
        "num = int(len(word))\n",
        "reword = ''\n",
        "if num%2 != 0:\n",
        "  reword == word[0:int(num/2)]+'@'+word[int(num/2):]\n",
        "else:\n",
        "  reword = word[0:int(num/2)]+'@'+word[int(num/2):]\n",
        "\n",
        "\n",
        "\n",
        "print(f'変換した英単語：{reword}')"
      ],
      "execution_count": 19,
      "outputs": [
        {
          "output_type": "stream",
          "name": "stdout",
          "text": [
            "英単語を入力してください > python\n",
            "変換した英単語：pyt@hon\n"
          ]
        }
      ]
    },
    {
      "cell_type": "code",
      "source": [
        "word = input('英単語を入力してください > ')\n",
        "count = 0\n",
        "\n",
        "#単語の長さを計算する\n",
        "for _ in word:\n",
        "  count += 1\n",
        "\n",
        "index = count // 2\n",
        "\n",
        "#偶数か奇数によって処理を分岐させる(if)\n",
        "if count % 2 == 0:\n",
        "  reword = word[:index] + '@' + word[index:]\n",
        "else:\n",
        "  reword = word[:index] + '@' + word[index+1:]\n",
        "print(f'変換した英単語：{reword}')"
      ],
      "metadata": {
        "colab": {
          "base_uri": "https://localhost:8080/"
        },
        "id": "7-yVB4KlI04S",
        "outputId": "da6ef4a3-a9ba-4839-daf5-5406626ca312"
      },
      "execution_count": 21,
      "outputs": [
        {
          "output_type": "stream",
          "name": "stdout",
          "text": [
            "英単語を入力してください > php\n",
            "変換した英単語：p@p\n"
          ]
        }
      ]
    },
    {
      "cell_type": "markdown",
      "metadata": {
        "id": "u0cHqyJyhZpZ"
      },
      "source": [
        "## 問題25. "
      ]
    },
    {
      "cell_type": "markdown",
      "metadata": {
        "id": "r1H4c7TO0U41"
      },
      "source": [
        "入力した3つの英単語を、カンマ区切りでアルファベット順になるように並び替えるプログラムを作成してください。\n",
        "\n",
        "```\n",
        "1つ目の英単語を入力してください > Python\n",
        "2つ目の英単語を入力してください > Ruby\n",
        "3つ目の英単語を入力してください > Java\n",
        "並び替えた英単語 : Java, Python, Ruby\n",
        "```"
      ]
    },
    {
      "cell_type": "code",
      "metadata": {
        "id": "IFgVRPTC0aDx",
        "colab": {
          "base_uri": "https://localhost:8080/"
        },
        "outputId": "6aa24257-0d3b-452f-cbf1-4b8b87cec304"
      },
      "source": [
        "word1 = input('1つ目の文字列を入力してください >')\n",
        "word2 = input('2つ目の文字列を入力してください >')\n",
        "word3 = input('3つ目の文字列を入力してください >')\n",
        "\n",
        "words = [word1, word2, word3]\n",
        "\n",
        "words.sort()\n",
        "sort_words = ', '.join(words)\n",
        "\n",
        "print(f'並び替えた英単語 : {sort_words}')"
      ],
      "execution_count": 32,
      "outputs": [
        {
          "output_type": "stream",
          "name": "stdout",
          "text": [
            "1つ目の文字列を入力してください >Python\n",
            "2つ目の文字列を入力してください >Java\n",
            "3つ目の文字列を入力してください >Ruby\n",
            "並び替えた英単語 : Java, Python, Ruby\n"
          ]
        }
      ]
    },
    {
      "cell_type": "code",
      "source": [],
      "metadata": {
        "id": "8h_h2al-L4T2"
      },
      "execution_count": null,
      "outputs": []
    }
  ]
}