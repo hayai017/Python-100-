{
  "nbformat": 4,
  "nbformat_minor": 0,
  "metadata": {
    "colab": {
      "provenance": [],
      "collapsed_sections": [
        "atr97x7aVW8H",
        "f5FP_9LXVZ6A",
        "R47BUrdvVbi-",
        "JSbjbrUvVc5e",
        "9uvFJo1WVeNg"
      ]
    },
    "kernelspec": {
      "name": "python3",
      "display_name": "Python 3"
    },
    "language_info": {
      "name": "python"
    }
  },
  "cells": [
    {
      "cell_type": "markdown",
      "metadata": {
        "id": "LHv3fZJ_rIwy"
      },
      "source": [
        "# 数値型【5問】"
      ]
    },
    {
      "cell_type": "markdown",
      "metadata": {
        "id": "atr97x7aVW8H"
      },
      "source": [
        "## 問題11."
      ]
    },
    {
      "cell_type": "markdown",
      "metadata": {
        "id": "tHx4m4pMtHpW"
      },
      "source": [
        "以下の出力になるように、体重58kg、身長170cmの人のBMIを計算してください。\n",
        "\n",
        "- ※BMI = 体重kg ÷ (身長m)^2\n",
        "- ※^2は「二乗」を意味します\n",
        "\n",
        "```\n",
        "BMI = 20.06920415224914\n",
        "```"
      ]
    },
    {
      "cell_type": "code",
      "metadata": {
        "id": "7nb63a1LrZbM",
        "colab": {
          "base_uri": "https://localhost:8080/"
        },
        "outputId": "6f6aae8c-832e-4a5a-ed0d-502dfc6e861c"
      },
      "source": [
        "weight = 58\n",
        "hight = 170\n",
        "BMI = weight / ((hight/100)**2)\n",
        "print(BMI)"
      ],
      "execution_count": 1,
      "outputs": [
        {
          "output_type": "stream",
          "name": "stdout",
          "text": [
            "20.06920415224914\n"
          ]
        }
      ]
    },
    {
      "cell_type": "markdown",
      "metadata": {
        "id": "f5FP_9LXVZ6A"
      },
      "source": [
        "## 問題12. "
      ]
    },
    {
      "cell_type": "markdown",
      "metadata": {
        "id": "-n6M-IE5tV1J"
      },
      "source": [
        "以下のように体重(kg)と身長(cm)を自分で入力して、BMIを計算できるようなプログラムを作成してください。\n",
        "\n",
        "```\n",
        "身長を入力してください(cm) > 178.3\n",
        "体重を入力してください(kg) > 58.4\n",
        "BMI = 18.370042487014356\n",
        "```"
      ]
    },
    {
      "cell_type": "code",
      "metadata": {
        "id": "lncSoJTstXRF",
        "colab": {
          "base_uri": "https://localhost:8080/"
        },
        "outputId": "1d6ca411-9977-42d6-fe01-1cba8363b5ae"
      },
      "source": [
        "hight = float(input('身長を入力してください(cm) >'))\n",
        "weight = float(input('体重を入力してください(kg) > '))\n",
        "BMI = weight / ((hight/100)**2)\n",
        "print(f'BMI = {BMI}')"
      ],
      "execution_count": 6,
      "outputs": [
        {
          "output_type": "stream",
          "name": "stdout",
          "text": [
            "身長を入力してください(cm) >178.3\n",
            "体重を入力してください(kg) > 58.4\n",
            "BMI = 18.370042487014356\n"
          ]
        }
      ]
    },
    {
      "cell_type": "markdown",
      "metadata": {
        "id": "R47BUrdvVbi-"
      },
      "source": [
        "## 問題13. "
      ]
    },
    {
      "cell_type": "markdown",
      "metadata": {
        "id": "obTT-wt7t6xd"
      },
      "source": [
        "以下のように時速(km/h)を入力したら、秒速(m/s)が出力されるプログラムを作成してください。\n",
        "\n",
        "```\n",
        "時速(km/h)を入力してください > 72\n",
        "秒速 = 20.0 m/s\n",
        "```"
      ]
    },
    {
      "cell_type": "code",
      "metadata": {
        "id": "10Pa7u2Xt6vE",
        "colab": {
          "base_uri": "https://localhost:8080/"
        },
        "outputId": "b505ec6f-6089-483a-f9f6-ed1fb2b1c217"
      },
      "source": [
        "fast = float(input('時速(km/h)を入力してください >'))\n",
        "minf = (fast*1000) / (60*60)\n",
        "print(f'秒速 = {minf} m/s')"
      ],
      "execution_count": 8,
      "outputs": [
        {
          "output_type": "stream",
          "name": "stdout",
          "text": [
            "時速(km/h)を入力してください >72\n",
            "秒速 = 20.0 m/s\n"
          ]
        }
      ]
    },
    {
      "cell_type": "markdown",
      "metadata": {
        "id": "JSbjbrUvVc5e"
      },
      "source": [
        "## 問題14. "
      ]
    },
    {
      "cell_type": "markdown",
      "metadata": {
        "id": "RA4Dq4s0t6sl"
      },
      "source": [
        "1以上の整数aを入力したら、a + aaaを計算するプログラムを作成してください。\n",
        "\n",
        "※例 : a = 2の場合：2 + 222 = 224\n",
        "\n",
        "```\n",
        "整数を入力してください > 2\n",
        "計算結果 : 224\n",
        "```"
      ]
    },
    {
      "cell_type": "code",
      "metadata": {
        "id": "oCOwuEnftwWc",
        "colab": {
          "base_uri": "https://localhost:8080/"
        },
        "outputId": "7135ab95-083f-48bd-a181-34f821979b04"
      },
      "source": [
        "a = int(input('整数を入力してください >'))\n",
        "numa = a + (100*a + 10*a + a)\n",
        "print(f'計算結果：{numa}')"
      ],
      "execution_count": 9,
      "outputs": [
        {
          "output_type": "stream",
          "name": "stdout",
          "text": [
            "整数を入力してください >2\n",
            "計算結果：224\n"
          ]
        }
      ]
    },
    {
      "cell_type": "markdown",
      "metadata": {
        "id": "9uvFJo1WVeNg"
      },
      "source": [
        "## 問題15. "
      ]
    },
    {
      "cell_type": "markdown",
      "metadata": {
        "id": "q1jLRnSvugsP"
      },
      "source": [
        "整数aと整数bを入力したら、a-bを計算するプログラムを作成してください。ただし、計算結果がマイナスの場合はプラスに変換しましょう。\n",
        "\n",
        "※組み込み関数を使わずに解いてみてください。\n",
        "\n",
        "```\n",
        "1つ目の整数を入力してください > 2\n",
        "2つ目の整数を入力してください > 4\n",
        "計算結果 : 2\n",
        "```"
      ]
    },
    {
      "cell_type": "code",
      "metadata": {
        "id": "bvelOZsnugqM",
        "colab": {
          "base_uri": "https://localhost:8080/"
        },
        "outputId": "3df94213-6bc5-4359-9ef2-03f0cb657dca"
      },
      "source": [
        "a = int(input('1つ目の整数を入力してください >'))\n",
        "b = int(input('2つ目の整数を入力してください >'))\n",
        "\n",
        "tmp1 = a-b\n",
        "tmp2 = b-a\n",
        "\n",
        "if tmp1 > 0:\n",
        "  ans = tmp1\n",
        "else:\n",
        "  ans = tmp2\n",
        "\n",
        "print(f'計算結果：{ans}')"
      ],
      "execution_count": 11,
      "outputs": [
        {
          "output_type": "stream",
          "name": "stdout",
          "text": [
            "1つ目の整数を入力してください >2\n",
            "2つ目の整数を入力してください >4\n",
            "計算結果：2\n"
          ]
        }
      ]
    },
    {
      "cell_type": "code",
      "metadata": {
        "id": "nHAhAoAHuQAt",
        "colab": {
          "base_uri": "https://localhost:8080/"
        },
        "outputId": "3f2e6355-b5ed-4ee1-f1a0-2734a9392b4e"
      },
      "source": [
        "a = int(input('1つ目の整数を入力してください >'))\n",
        "b = int(input('2つ目の整数を入力してください >'))\n",
        "\n",
        "r = a-b\n",
        "\n",
        "if r < 0:\n",
        "  r = -r\n",
        "\n",
        "print(f'計算結果：{r}')"
      ],
      "execution_count": 12,
      "outputs": [
        {
          "output_type": "stream",
          "name": "stdout",
          "text": [
            "1つ目の整数を入力してください >2\n",
            "2つ目の整数を入力してください >4\n",
            "計算結果：2\n"
          ]
        }
      ]
    },
    {
      "cell_type": "code",
      "source": [],
      "metadata": {
        "id": "dGiTb3MR8xEm"
      },
      "execution_count": null,
      "outputs": []
    }
  ]
}