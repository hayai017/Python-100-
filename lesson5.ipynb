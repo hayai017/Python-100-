{
  "nbformat": 4,
  "nbformat_minor": 0,
  "metadata": {
    "colab": {
      "provenance": [],
      "collapsed_sections": [
        "cKtYyvgPKWkv"
      ]
    },
    "kernelspec": {
      "name": "python3",
      "display_name": "Python 3"
    },
    "language_info": {
      "name": "python"
    }
  },
  "cells": [
    {
      "cell_type": "markdown",
      "metadata": {
        "id": "KZ-kB11E1REF"
      },
      "source": [
        "# リスト型【25問】"
      ]
    },
    {
      "cell_type": "markdown",
      "metadata": {
        "id": "nY1fnALz1W4d"
      },
      "source": [
        "## 問題26."
      ]
    },
    {
      "cell_type": "markdown",
      "metadata": {
        "id": "To2xmn15oq4Q"
      },
      "source": [
        "リスト`[1, 2, 3, 4, 5]`に格納されている数値を足し合わせるプログラムを作成してください。\n",
        "\n",
        "\n",
        "※組み込み関数を使わずに解いてみてください。\n",
        "\n",
        "```\n",
        "リスト内の合計 : 15\n",
        "```"
      ]
    },
    {
      "cell_type": "code",
      "metadata": {
        "id": "_jPKjbx3141K",
        "colab": {
          "base_uri": "https://localhost:8080/"
        },
        "outputId": "7812e953-b0de-4d0e-fcef-7c7a6eae25ad"
      },
      "source": [
        "l = [1,2,3,4,5]\n",
        "\n",
        "c = 0\n",
        "for i in l:\n",
        "  c += i\n",
        "\n",
        "print(f'リスト内の合計 : {c}')"
      ],
      "execution_count": null,
      "outputs": [
        {
          "output_type": "stream",
          "name": "stdout",
          "text": [
            "リスト内の合計 : 15\n"
          ]
        }
      ]
    },
    {
      "cell_type": "markdown",
      "metadata": {
        "id": "Qz_7Htju2L-6"
      },
      "source": [
        "## 問題27. "
      ]
    },
    {
      "cell_type": "markdown",
      "metadata": {
        "id": "zX4GpR4Fospf"
      },
      "source": [
        "組み込み関数を使って、リスト`[1, 2, 3, 4, 5]`に格納されている数値を足し合わせるプログラムを作成してください。\n",
        "\n",
        "```\n",
        "リスト内の合計 : 15\n",
        "```"
      ]
    },
    {
      "cell_type": "code",
      "metadata": {
        "id": "fGTJKdgE18YD",
        "colab": {
          "base_uri": "https://localhost:8080/"
        },
        "outputId": "37be29b9-5912-4252-b551-57e19f8a0886"
      },
      "source": [
        "l = [1, 2, 3, 4, 5]\n",
        "c = sum(l)\n",
        "print(f'リスト内の合計：{sum(l)}')"
      ],
      "execution_count": null,
      "outputs": [
        {
          "output_type": "stream",
          "name": "stdout",
          "text": [
            "リスト内の合計：15\n"
          ]
        }
      ]
    },
    {
      "cell_type": "markdown",
      "source": [
        "問題26でsumを使ってしまっていたことがエラーの原因"
      ],
      "metadata": {
        "id": "eUlgppj3O_av"
      }
    },
    {
      "cell_type": "markdown",
      "metadata": {
        "id": "gYCrjuPQ2Yu2"
      },
      "source": [
        "## 問題28. "
      ]
    },
    {
      "cell_type": "markdown",
      "metadata": {
        "id": "7ff3UullouYk"
      },
      "source": [
        "リスト` [1, 5, 3, 2, 4]`に格納されている数値の最大値を出力するプログラムを作成してください。\n",
        "\n",
        "※組み込み関数を使わずに解いてみてください。\n",
        "\n",
        "```\n",
        "リスト内の最大値 : 5\n",
        "```"
      ]
    },
    {
      "cell_type": "code",
      "metadata": {
        "id": "43brIS0U2gLP",
        "colab": {
          "base_uri": "https://localhost:8080/"
        },
        "outputId": "47f78937-2d8c-4710-fead-cce786dddc2e"
      },
      "source": [
        "l = [1, 5, 3, 2, 4]\n",
        "\n",
        "nummax = 0\n",
        "for i in l:\n",
        "  if i > nummax:\n",
        "    nummax = i\n",
        "\n",
        "print(f'リスト内の最大値 :{nummax}')\n"
      ],
      "execution_count": null,
      "outputs": [
        {
          "output_type": "stream",
          "name": "stdout",
          "text": [
            "リスト内の最大値 :5\n"
          ]
        }
      ]
    },
    {
      "cell_type": "markdown",
      "metadata": {
        "id": "mqQ6zB5q2tA9"
      },
      "source": [
        "## 問題29. "
      ]
    },
    {
      "cell_type": "markdown",
      "metadata": {
        "id": "SMBjl_7TowQj"
      },
      "source": [
        "組み込み関数を使って、リスト` [1, 5, 3, 2, 4]`に格納されている数値の最大値を出力するプログラムを作成してください。\n",
        "\n",
        "```\n",
        "リスト内の最大値 : 5\n",
        "```"
      ]
    },
    {
      "cell_type": "code",
      "metadata": {
        "id": "RWkOsJZ723_d",
        "colab": {
          "base_uri": "https://localhost:8080/"
        },
        "outputId": "7d1c2611-28cb-4c36-8c2b-342b6677e6ef"
      },
      "source": [
        "l = [1, 5, 3, 2, 4]\n",
        "\n",
        "print(f'リスト内の最大値 :{max(l)}')"
      ],
      "execution_count": null,
      "outputs": [
        {
          "output_type": "stream",
          "name": "stdout",
          "text": [
            "リスト内の最大値 :5\n"
          ]
        }
      ]
    },
    {
      "cell_type": "markdown",
      "metadata": {
        "id": "JXd5fQFJ2-oU"
      },
      "source": [
        "## 問題30. "
      ]
    },
    {
      "cell_type": "markdown",
      "metadata": {
        "id": "WUkto6FPox34"
      },
      "source": [
        "リスト`[1, 2, 2, 3, 3, 4, 5]`から重複している値を削除するプログラムを作成してください。\n",
        "\n",
        "```\n",
        "重複削除したリスト : [1, 2, 3, 4, 5]\n",
        "```"
      ]
    },
    {
      "cell_type": "code",
      "metadata": {
        "id": "r2_aGKnJ3ELR",
        "colab": {
          "base_uri": "https://localhost:8080/"
        },
        "outputId": "37638746-460a-4110-f6d6-d6532627b43e"
      },
      "source": [
        "l = [1, 2, 2, 3, 3, 4, 5]\n",
        "print(f'重複削除したリスト :{set(l)}')"
      ],
      "execution_count": null,
      "outputs": [
        {
          "output_type": "stream",
          "name": "stdout",
          "text": [
            "重複削除したリスト :{1, 2, 3, 4, 5}\n"
          ]
        }
      ]
    },
    {
      "cell_type": "markdown",
      "metadata": {
        "id": "_JOLy0TF3NAl"
      },
      "source": [
        "## 問題31."
      ]
    },
    {
      "cell_type": "markdown",
      "metadata": {
        "id": "UDIxTElyozf-"
      },
      "source": [
        "リスト`['Python', 'Ruby', 'PHP', 'JavaScript']`に格納されている文字列の中で、一番短い単語を出力するプログラムを作成しましょう。\n",
        "\n",
        "```\n",
        "一番短い単語 : PHP\n",
        "```"
      ]
    },
    {
      "cell_type": "code",
      "metadata": {
        "id": "ixBgpy053M-S",
        "colab": {
          "base_uri": "https://localhost:8080/"
        },
        "outputId": "58fd0525-4d1d-4010-f98c-023b2c20685a"
      },
      "source": [
        "l = ['Python', 'Ruby', 'PHP', 'JavaScript']\n",
        "\n",
        "w = []\n",
        "tmplen = 100\n",
        "for i in l:\n",
        "  if len(i) < tmplen:\n",
        "    tmplen = len(i)\n",
        "    w = i\n",
        "\n",
        "print(f'一番短い単語 : {w}')\n"
      ],
      "execution_count": null,
      "outputs": [
        {
          "output_type": "stream",
          "name": "stdout",
          "text": [
            "一番短い単語 : PHP\n"
          ]
        }
      ]
    },
    {
      "cell_type": "code",
      "source": [
        "l = ['Python', 'Ruby', 'PHP', 'JavaScript']\n",
        "\n",
        "min_length_word = l[0]\n",
        "\n",
        "for word in l[1:]:\n",
        "  min_length = len(min_length_word)\n",
        "  if len (word) < min_length:\n",
        "    min_length_word = word\n",
        "\n",
        "print(f'一番短い単語 : {min_length_word}')\n"
      ],
      "metadata": {
        "colab": {
          "base_uri": "https://localhost:8080/"
        },
        "id": "FnoxbPOrRjdu",
        "outputId": "541fa22a-edf9-4ab8-af42-3527033d4a8e"
      },
      "execution_count": null,
      "outputs": [
        {
          "output_type": "stream",
          "name": "stdout",
          "text": [
            "一番短い単語 : PHP\n"
          ]
        }
      ]
    },
    {
      "cell_type": "markdown",
      "metadata": {
        "id": "_rC3KHEO31bi"
      },
      "source": [
        "## 問題32. "
      ]
    },
    {
      "cell_type": "markdown",
      "metadata": {
        "id": "WCh69f1do1BP"
      },
      "source": [
        "リスト`['Python', 'Ruby', 'PHP', 'JavaScript']`に格納されている文字列が短いものから順番に並べるプログラムを作成してください。\n",
        "\n",
        "```\n",
        "短い順に並び替えたリスト : ['PHP', 'Ruby', 'Python', 'JavaScript']\n",
        "```"
      ]
    },
    {
      "cell_type": "code",
      "metadata": {
        "id": "waAkTi8t3HWG",
        "colab": {
          "base_uri": "https://localhost:8080/"
        },
        "outputId": "796ba660-513d-42d4-be5d-8eaedd4863c1"
      },
      "source": [
        "l = ['Python', 'Ruby', 'PHP', 'JavaScript']\n",
        "\n",
        "sorted_l = sorted(l, key=len)\n",
        "\n",
        "print(f'短い順に並び替えたリスト :{sorted_l}')\n"
      ],
      "execution_count": null,
      "outputs": [
        {
          "output_type": "stream",
          "name": "stdout",
          "text": [
            "短い順に並び替えたリスト :['PHP', 'Ruby', 'Python', 'JavaScript']\n"
          ]
        }
      ]
    },
    {
      "cell_type": "markdown",
      "metadata": {
        "id": "vUNSkiLk4LEh"
      },
      "source": [
        "## 問題33. "
      ]
    },
    {
      "cell_type": "markdown",
      "metadata": {
        "id": "apv7EQgao2xr"
      },
      "source": [
        "2つのリストで共通の文字列を格納したリストを出力するプログラムを作成してください。\n",
        "\n",
        "※使用するリスト :\n",
        "```\n",
        "l1 = ['Python', 'Ruby', 'PHP', 'JavaScript']\n",
        "l2 = ['Java', 'Ruby', 'Golang', 'Python', 'TypeScript']\n",
        "```\n",
        "\n",
        "▼期待する出力\n",
        "```\n",
        "共通する値を格納したリスト : ['Python', 'Ruby']\n",
        "```"
      ]
    },
    {
      "cell_type": "code",
      "metadata": {
        "id": "hBVRKpMX4Sti",
        "colab": {
          "base_uri": "https://localhost:8080/"
        },
        "outputId": "449eb61e-c653-4934-c73f-044721e3ecce"
      },
      "source": [
        "l1 = ['Python', 'Ruby', 'PHP', 'JavaScript']\n",
        "l2 = ['Java', 'Ruby', 'Golang', 'Python', 'TypeScript']\n",
        "\n",
        "com_l=[]\n",
        "\n",
        "for i in l1:\n",
        "  for j in l2:\n",
        "    if i == j:\n",
        "      com_l.append(i)\n",
        "\n",
        "print(f'共通する値を格納したリスト :{com_l}')"
      ],
      "execution_count": null,
      "outputs": [
        {
          "output_type": "stream",
          "name": "stdout",
          "text": [
            "共通する値を格納したリスト :['Python', 'Ruby']\n"
          ]
        }
      ]
    },
    {
      "cell_type": "markdown",
      "metadata": {
        "id": "RuKVbECr4thv"
      },
      "source": [
        "## 問題34. "
      ]
    },
    {
      "cell_type": "markdown",
      "metadata": {
        "id": "FBBzxRXjo4Tj"
      },
      "source": [
        "以下のリストで「インデックス番号が偶数の要素」だけを出力するプログラムを作成してください。\n",
        "\n",
        "※使用するリスト : \n",
        "```\n",
        "l = ['1', 2, '3', 4, '5', 6, '7', 8, '9', 10]\n",
        "```\n",
        "\n",
        "▼期待する出力\n",
        "```\n",
        "偶数のインデックス番号 : ['1', '3', '5', '7', '9']\n",
        "```"
      ]
    },
    {
      "cell_type": "code",
      "metadata": {
        "id": "IWQo4vXgMFV0",
        "colab": {
          "base_uri": "https://localhost:8080/"
        },
        "outputId": "a889e84c-8400-4fba-d602-0e2cbc78561c"
      },
      "source": [
        "l = ['1', 2, '3', 4, '5', 6, '7', 8, '9', 10]\n",
        "\n",
        "odd_l = []\n",
        "\n",
        "for i in l:\n",
        "  if int(i)%2 != 0:\n",
        "    odd_l.append(i)\n",
        "\n",
        "\n",
        "print(f'偶数のインデックス番号 :{odd_l}')"
      ],
      "execution_count": null,
      "outputs": [
        {
          "output_type": "stream",
          "name": "stdout",
          "text": [
            "偶数のインデックス番号 :['1', '3', '5', '7', '9']\n"
          ]
        }
      ]
    },
    {
      "cell_type": "code",
      "source": [
        "l = ['1', 2, '3', 4, '5', 6, '7', 8, '9', 10]\n",
        "\n",
        "print(f'偶数のインデックス番号 :{l[::2]}')"
      ],
      "metadata": {
        "colab": {
          "base_uri": "https://localhost:8080/"
        },
        "id": "HF43tTLIfCep",
        "outputId": "d2856aac-f5d1-4a43-e0cd-5983b0622b48"
      },
      "execution_count": null,
      "outputs": [
        {
          "output_type": "stream",
          "name": "stdout",
          "text": [
            "偶数のインデックス番号 :['1', '3', '5', '7', '9']\n"
          ]
        }
      ]
    },
    {
      "cell_type": "markdown",
      "metadata": {
        "id": "pc7blLsU5Kan"
      },
      "source": [
        "## 問題35. "
      ]
    },
    {
      "cell_type": "markdown",
      "metadata": {
        "id": "JFEEMSCco6Q2"
      },
      "source": [
        "以下のリストで「整数型(int)の要素」だけを出力するプログラムを作成してください。\n",
        "\n",
        "※使用するリスト : \n",
        "```\n",
        "l = ['1', 2, '3', 4.0, '5', 6, '7', 8.0, '9', 10]\n",
        "```\n",
        "\n",
        "▼期待する出力\n",
        "```\n",
        "整数型に絞り込んだリスト : [2, 6, 10]\n",
        "```"
      ]
    },
    {
      "cell_type": "code",
      "metadata": {
        "id": "s61qCYTg5KT4",
        "colab": {
          "base_uri": "https://localhost:8080/"
        },
        "outputId": "3c2172e8-5535-42a9-f4d9-25eea62c45d4"
      },
      "source": [
        "l = ['1', 2, '3', 4.0, '5', 6, '7', 8.0, '9', 10]\n",
        "\n",
        "int_l = []\n",
        "for i in l:\n",
        "  if isinstance(i, int):\n",
        "    int_l.append(i)\n",
        "print(f'整数型に絞り込んだリスト :{int_l}')"
      ],
      "execution_count": null,
      "outputs": [
        {
          "output_type": "stream",
          "name": "stdout",
          "text": [
            "整数型に絞り込んだリスト :[2, 6, 10]\n"
          ]
        }
      ]
    },
    {
      "cell_type": "markdown",
      "metadata": {
        "id": "pGzNCyd65EvI"
      },
      "source": [
        "## 問題36. "
      ]
    },
    {
      "cell_type": "markdown",
      "metadata": {
        "id": "3rr9fBPZo7zY"
      },
      "source": [
        "以下のように2つのリストが格納されたリストを出力するプログラムを「2行以下」で作成してください。ただし`[1, 2, 3, 4, 5]`のようにハードコーディングしないこと。\n",
        "\n",
        "```\n",
        "作成したリスト : [[1, 2, 3, 4, 5], [6, 7, 8, 9, 10]]\n",
        "```"
      ]
    },
    {
      "cell_type": "code",
      "metadata": {
        "id": "R6XkoJt36MJ6",
        "colab": {
          "base_uri": "https://localhost:8080/"
        },
        "outputId": "68678866-6458-44c7-d48d-1d6fc8b6312b"
      },
      "source": [
        "l = [[5*i + j for j in range(1,6)] for i in range(2)]\n",
        "print(f'作成したリスト : {l}')"
      ],
      "execution_count": null,
      "outputs": [
        {
          "output_type": "stream",
          "name": "stdout",
          "text": [
            "作成したリスト : [[1, 2, 3, 4, 5], [6, 7, 8, 9, 10]]\n"
          ]
        }
      ]
    },
    {
      "cell_type": "markdown",
      "metadata": {
        "id": "je04aTgE6QE2"
      },
      "source": [
        "## 問題37. "
      ]
    },
    {
      "cell_type": "markdown",
      "metadata": {
        "id": "A1GOEhw_o9H8"
      },
      "source": [
        "以下の二次元リストを一次元にする(平らにする)プログラムを「3行以下」で作成してください。\n",
        "\n",
        "※使用するリスト : \n",
        "```\n",
        "l = [[1, 2, 3, 4, 5], [6, 7, 8, 9, 10]]\n",
        "```\n",
        "\n",
        "▼期待する出力\n",
        "```\n",
        "一次元にしたリスト : [1, 2, 3, 4, 5, 6, 7, 8, 9, 10]\n",
        "```"
      ]
    },
    {
      "cell_type": "code",
      "metadata": {
        "id": "XCWfHxlk7Wpv",
        "colab": {
          "base_uri": "https://localhost:8080/"
        },
        "outputId": "7270fcf8-5865-4d71-dfa2-6d5d00ff3b0b"
      },
      "source": [
        "l = [[1, 2, 3, 4, 5], [6, 7, 8, 9, 10]]\n",
        "new_l = [i for row in l for i in row]\n",
        "print(f'一次元にしたリスト :{new_l}')"
      ],
      "execution_count": null,
      "outputs": [
        {
          "output_type": "stream",
          "name": "stdout",
          "text": [
            "一次元にしたリスト :[1, 2, 3, 4, 5, 6, 7, 8, 9, 10]\n"
          ]
        }
      ]
    },
    {
      "cell_type": "code",
      "source": [
        "new_l = []\n",
        "for row in l:\n",
        "  for i in row:\n",
        "    new_l.append(i)\n",
        "print(new_l)"
      ],
      "metadata": {
        "colab": {
          "base_uri": "https://localhost:8080/"
        },
        "id": "NA3ljO18iziG",
        "outputId": "8555b201-f664-498f-95dc-e7d4a803cc66"
      },
      "execution_count": null,
      "outputs": [
        {
          "output_type": "stream",
          "name": "stdout",
          "text": [
            "[1, 2, 3, 4, 5, 6, 7, 8, 9, 10]\n"
          ]
        }
      ]
    },
    {
      "cell_type": "markdown",
      "metadata": {
        "id": "qWjy9l3L_yWc"
      },
      "source": [
        "## 問題38. "
      ]
    },
    {
      "cell_type": "markdown",
      "metadata": {
        "id": "OxRwKMYPo-tG"
      },
      "source": [
        "空のリストだったら「入力されたリストは空でした。」と出力し、そうでなければそのままリストを出力するプログラムを作成してください。\n",
        "\n",
        "`l = [1, 2, 3]`の場合 : \n",
        "```\n",
        "入力されたリスト : [1, 2, 3]\n",
        "```\n",
        "\n",
        "`l = []`の場合 : \n",
        "```\n",
        "入力されたリストは空でした。\n",
        "```"
      ]
    },
    {
      "cell_type": "code",
      "metadata": {
        "id": "2hm5lXAl7ZZl",
        "colab": {
          "base_uri": "https://localhost:8080/"
        },
        "outputId": "6cef22e5-9b46-4b55-ef28-f7d63ad3c82f"
      },
      "source": [
        "l = []\n",
        "\n",
        "if l == []:\n",
        "  print(f'入力されたリストは空でした。')\n",
        "else:\n",
        "  print(f'入力されたリスト：{l}')"
      ],
      "execution_count": null,
      "outputs": [
        {
          "output_type": "stream",
          "name": "stdout",
          "text": [
            "入力されたリストは空でした。\n"
          ]
        }
      ]
    },
    {
      "cell_type": "markdown",
      "metadata": {
        "id": "g7KICJlbAWgo"
      },
      "source": [
        "## 問題39. "
      ]
    },
    {
      "cell_type": "markdown",
      "metadata": {
        "id": "cfCxMfeopAbO"
      },
      "source": [
        "以下2つのリストで、対応するインデックス同士を掛け算したリストを「4行以下」で作成してください。\n",
        "\n",
        "※使用するリスト :\n",
        "```\n",
        "l1 = [1 ,2 ,3, 4, 5]\n",
        "l2 = [10, 9, 8, 7, 6]\n",
        "```\n",
        "\n",
        "▼期待する出力\n",
        "```\n",
        "掛け算を計算した結果 : [10, 18, 24, 28, 30]\n",
        "```"
      ]
    },
    {
      "cell_type": "code",
      "metadata": {
        "id": "6w_SNPdQArnB",
        "colab": {
          "base_uri": "https://localhost:8080/"
        },
        "outputId": "2c979844-bce0-4b59-f707-2d8ce5933c5a"
      },
      "source": [
        "l1 = [1 ,2 ,3, 4, 5]\n",
        "l2 = [10, 9, 8, 7, 6]\n",
        "l = [i * j for i, j in zip(l1,l2)]\n",
        "print(f'掛け算を計算した結果 :{l}')"
      ],
      "execution_count": null,
      "outputs": [
        {
          "output_type": "stream",
          "name": "stdout",
          "text": [
            "掛け算を計算した結果 :[10, 18, 24, 28, 30]\n"
          ]
        }
      ]
    },
    {
      "cell_type": "markdown",
      "metadata": {
        "id": "rOSM1iTZAvtn"
      },
      "source": [
        "## 問題40. "
      ]
    },
    {
      "cell_type": "markdown",
      "metadata": {
        "id": "gVByjHFZpBwq"
      },
      "source": [
        "以下のリストで、整数(int型)の最大値・最小値を出力するプログラムを「4行以下」で作成してください。\n",
        "\n",
        "※使用するリスト : \n",
        "```\n",
        "l = [1, '22', 3, '444', 0.0, '5']\n",
        "```\n",
        "\n",
        "▼期待する出力\n",
        "\n",
        "```\n",
        "最大値 : 3\n",
        "最小値 : 1\n",
        "```"
      ]
    },
    {
      "cell_type": "code",
      "metadata": {
        "id": "62DfShskAzqA",
        "colab": {
          "base_uri": "https://localhost:8080/"
        },
        "outputId": "508fa0ff-69aa-4cb0-9050-38009d6391a0"
      },
      "source": [
        "l = [1, '22', 3, '444', 0.0, '5']\n",
        "new_l = [i for i in l if isinstance(i, int)]\n",
        "print(f'最大値：{max(new_l)}')\n",
        "print(f'最小値：{min(new_l)}')"
      ],
      "execution_count": null,
      "outputs": [
        {
          "output_type": "stream",
          "name": "stdout",
          "text": [
            "最大値：3\n",
            "最小値：1\n"
          ]
        }
      ]
    },
    {
      "cell_type": "markdown",
      "metadata": {
        "id": "wskE6cQyBBqK"
      },
      "source": [
        "## 問題41. "
      ]
    },
    {
      "cell_type": "markdown",
      "metadata": {
        "id": "d6LzmY0kpC_2"
      },
      "source": [
        "以下のリストで「数字部分とインデックス番号が一致する要素だけ」をリスト形式で出力するプログラムを「3行以下」で作成してください。\n",
        "\n",
        "※使用するリスト : \n",
        "```\n",
        "l = [0, '1', 3, 2, '4', 5, '7']\n",
        "```\n",
        "\n",
        "▼期待する出力\n",
        "```\n",
        "インデックスと値が一致 : [0, '1', '4', 5]\n",
        "```\n"
      ]
    },
    {
      "cell_type": "code",
      "metadata": {
        "id": "eoAD4NaCBh_8",
        "colab": {
          "base_uri": "https://localhost:8080/"
        },
        "outputId": "586887cf-c8ef-493c-dad4-4b9af2c162dd"
      },
      "source": [
        "l = [0, '1', 3, 2, '4', 5, '7']\n",
        "nl = [i for i in range(len(l)) if i == int(l[i])]\n",
        "print(f'インデックスと値が一致 :{nl}')"
      ],
      "execution_count": null,
      "outputs": [
        {
          "output_type": "stream",
          "name": "stdout",
          "text": [
            "インデックスと値が一致 :[0, 1, 4, 5]\n"
          ]
        }
      ]
    },
    {
      "cell_type": "code",
      "source": [
        "l = [0, '1', 3, 2, '4', 5, '7']\n",
        "nl = [v for i, v in enumerate(l) if i == int(v)]\n",
        "print(f'インデックスと値が一致 :{nl}')"
      ],
      "metadata": {
        "colab": {
          "base_uri": "https://localhost:8080/"
        },
        "id": "_NDvIKJP5Fwl",
        "outputId": "366cb2c8-9dc0-4eed-fb7e-2716ba734053"
      },
      "execution_count": null,
      "outputs": [
        {
          "output_type": "stream",
          "name": "stdout",
          "text": [
            "インデックスと値が一致 :[0, '1', '4', 5]\n"
          ]
        }
      ]
    },
    {
      "cell_type": "markdown",
      "metadata": {
        "id": "b2O_kY48B3Eq"
      },
      "source": [
        "## 問題42. "
      ]
    },
    {
      "cell_type": "markdown",
      "metadata": {
        "id": "zCI1RjcspEz4"
      },
      "source": [
        "リスト内に重複している値が入っているか確認するプログラムを作成してください。\n",
        "\n",
        "`l = [1, 2, 3, 3]`の場合 : \n",
        "```\n",
        "重複している値があります。\n",
        "```\n",
        "\n",
        "`l = [1, 2, 3]`の場合 : \n",
        "```\n",
        "重複する値がありません。\n",
        "```"
      ]
    },
    {
      "cell_type": "code",
      "metadata": {
        "id": "QzsecDKeBv5g",
        "colab": {
          "base_uri": "https://localhost:8080/"
        },
        "outputId": "036b8a62-554d-4d9c-d912-fbf4349668e2"
      },
      "source": [
        "l = [1, 2, 3, 3]\n",
        "if len(set(l)) < len(l):\n",
        "  print('重複している値があります。')\n",
        "else:\n",
        "  print('重複する値がありません。')"
      ],
      "execution_count": null,
      "outputs": [
        {
          "output_type": "stream",
          "name": "stdout",
          "text": [
            "重複している値があります。\n"
          ]
        }
      ]
    },
    {
      "cell_type": "markdown",
      "source": [
        "長さを比較して重複を確認"
      ],
      "metadata": {
        "id": "NdS8UUF38d22"
      }
    },
    {
      "cell_type": "markdown",
      "metadata": {
        "id": "KbhmWhQtCQ65"
      },
      "source": [
        "## 問題43. "
      ]
    },
    {
      "cell_type": "markdown",
      "metadata": {
        "id": "1phCvq3VpGQF"
      },
      "source": [
        "以下のリストを、それぞれのデータ型でソートするプログラムを作成してください。\n",
        "\n",
        "※使用するリスト : \n",
        "```\n",
        "l = [4, 'aaa', 2, 'ddd', 'ccc', 3, 1, 'bbb']\n",
        "```\n",
        "\n",
        "▼期待する出力\n",
        "```\n",
        "ソートしたリスト : [1, 2, 3, 4, 'aaa', 'bbb', 'ccc', 'ddd']\n",
        "```"
      ]
    },
    {
      "cell_type": "code",
      "metadata": {
        "id": "5-LLOb1wCkM4",
        "colab": {
          "base_uri": "https://localhost:8080/"
        },
        "outputId": "aa11539f-88cb-4698-f2d1-9d04afe0233e"
      },
      "source": [
        "l = [4, 'aaa', 2, 'ddd', 'ccc', 3, 1, 'bbb']\n",
        "int_l = sorted([v for v in l if isinstance(v, int)])\n",
        "str_l = sorted([v for v in l if isinstance(v, str)])\n",
        "print(f'ソートしたリスト :{int_l + str_l}')"
      ],
      "execution_count": null,
      "outputs": [
        {
          "output_type": "stream",
          "name": "stdout",
          "text": [
            "ソートしたリスト :[1, 2, 3, 4, 'aaa', 'bbb', 'ccc', 'ddd']\n"
          ]
        }
      ]
    },
    {
      "cell_type": "markdown",
      "metadata": {
        "id": "Z2OxE8NPC0vY"
      },
      "source": [
        "## 問題44. "
      ]
    },
    {
      "cell_type": "markdown",
      "metadata": {
        "id": "SY2XHXzIpHiH"
      },
      "source": [
        "指定したリストに文字列が入っているか判定するプログラムを作成してください。\n",
        "\n",
        "`l = [1, 2, 3, '4', 5]`の場合 : \n",
        "```\n",
        "文字列が入っています。\n",
        "```\n",
        "\n",
        "`l = [1, 2, 3, 4, 5]`の場合 : \n",
        "```\n",
        "文字列は入っていません。\n",
        "```"
      ]
    },
    {
      "cell_type": "code",
      "metadata": {
        "id": "qZnrMsJvC0s5",
        "colab": {
          "base_uri": "https://localhost:8080/"
        },
        "outputId": "71724160-7081-42c6-f93f-b2bdfe3c9090"
      },
      "source": [
        "l = [1, 2, 3, '4', 5]\n",
        "\n",
        "h = 0\n",
        "for w in l:\n",
        "  if w == str(w):\n",
        "    h += 1\n",
        "\n",
        "if h >= 1:\n",
        "  print('文字列が入っています。')\n",
        "else:\n",
        "  print('文字列が入っていません。')"
      ],
      "execution_count": null,
      "outputs": [
        {
          "output_type": "stream",
          "name": "stdout",
          "text": [
            "文字列が入っています。\n"
          ]
        }
      ]
    },
    {
      "cell_type": "code",
      "source": [
        "l = [1, 2, 3, '4', 5]\n",
        "#anyは一つでもFalseが入るとFalesを返す\n",
        "if any(isinstance(v, str) for v in l):\n",
        "  print('文字列が入っています。')\n",
        "else:\n",
        "  print('文字列が入っていません。')"
      ],
      "metadata": {
        "colab": {
          "base_uri": "https://localhost:8080/"
        },
        "id": "AGkfPdlwfIJ-",
        "outputId": "f907933f-742c-4efd-8151-bfa7ccbdfe56"
      },
      "execution_count": null,
      "outputs": [
        {
          "output_type": "stream",
          "name": "stdout",
          "text": [
            "文字列が入っています。\n"
          ]
        }
      ]
    },
    {
      "cell_type": "markdown",
      "metadata": {
        "id": "7SWGy6tKCkam"
      },
      "source": [
        "## 問題45. "
      ]
    },
    {
      "cell_type": "markdown",
      "metadata": {
        "id": "mvBuhxrcpIvZ"
      },
      "source": [
        "以下のリストで、全ての要素前に文字列”list”を追加するプログラムを作成してください。\n",
        "\n",
        "※使用するリスト : \n",
        "```\n",
        "l = [1, 2, 3, 4, 5]\n",
        "```\n",
        "\n",
        "期待する出力\n",
        "```\n",
        "\"list\"を追加したリスト : ['list', 1, 'list', 2, 'list', 3, 'list', 4, 'list', 5]\n",
        "```"
      ]
    },
    {
      "cell_type": "code",
      "metadata": {
        "id": "f6gVkXJND4Tc",
        "colab": {
          "base_uri": "https://localhost:8080/"
        },
        "outputId": "b83a57c1-77af-41fe-da8b-758defe46715"
      },
      "source": [
        "l = [1, 2, 3, 4, 5]\n",
        "for i in range(0, 10, 2):\n",
        "  l.insert(i, 'list')\n",
        "\n",
        "print(f'\"list\"を追加したリスト : {l}')"
      ],
      "execution_count": null,
      "outputs": [
        {
          "output_type": "stream",
          "name": "stdout",
          "text": [
            "\"list\"を追加したリスト : ['list', 1, 'list', 2, 'list', 3, 'list', 4, 'list', 5]\n"
          ]
        }
      ]
    },
    {
      "cell_type": "markdown",
      "metadata": {
        "id": "Q7hvXuuHD-i8"
      },
      "source": [
        "## 問題46. "
      ]
    },
    {
      "cell_type": "markdown",
      "metadata": {
        "id": "o298lXHTpJ9G"
      },
      "source": [
        "以下のリストで文字列”Python”が含まれている要素を削除するプログラムを作成してください。\n",
        "\n",
        "※使用するリスト : \n",
        "```\n",
        "l = ['Python1', 'Java1', 1, 'Python2', 'Java2', 2]\n",
        "```\n",
        "\n",
        "▼期待する出力\n",
        "```\n",
        "文字列\"Python\"を削除したリスト : ['Java1', 1, 'Java2', 2]\n",
        "```"
      ]
    },
    {
      "cell_type": "code",
      "metadata": {
        "id": "ZqbVbifXMTR1",
        "colab": {
          "base_uri": "https://localhost:8080/"
        },
        "outputId": "1e6ebf18-2be2-4532-db39-900ad09809d1"
      },
      "source": [
        "l = ['Python1', 'Java1', 1, 'Python2', 'Java2', 2]\n",
        "for i in l:\n",
        "  if \"Python\" in str(i):\n",
        "    l.remove(i)\n",
        "print(f'\"文字列\"Python\"を削除したリスト : {l}')"
      ],
      "execution_count": null,
      "outputs": [
        {
          "output_type": "stream",
          "name": "stdout",
          "text": [
            "\"文字列\"Python\"を削除したリスト : ['Java1', 1, 'Java2', 2]\n"
          ]
        }
      ]
    },
    {
      "cell_type": "markdown",
      "metadata": {
        "id": "3KiY9pGhICKi"
      },
      "source": [
        "## 問題47. "
      ]
    },
    {
      "cell_type": "markdown",
      "metadata": {
        "id": "RufvFsxppLb_"
      },
      "source": [
        "以下のリストで、インデックス番号と格納されている値が、ともに3の倍数の要素を削除するプログラムを作成してください。\n",
        "\n",
        "※使用するリスト : \n",
        "```\n",
        "l = [1, 3, 2, 3, 4, 6, 5, 8, 7]\n",
        "```\n",
        "\n",
        "▼期待する出力\n",
        "```\n",
        "削除後のリスト : [1, 3, 2, 4, 6, 5, 8, 7]\n",
        "```"
      ]
    },
    {
      "cell_type": "code",
      "metadata": {
        "id": "p8ws5ebwH3Y4",
        "colab": {
          "base_uri": "https://localhost:8080/"
        },
        "outputId": "98d003c9-1210-40bd-b4ac-a6e2ee005d21"
      },
      "source": [
        "l = [1, 3, 2, 3, 4, 6, 5, 8, 7]\n",
        "new_l = [v for i, v in enumerate(l) if not (i % 3 == 0 and v%3 == 0)]\n",
        "print(f'\"削除後のリスト :  {new_l}')"
      ],
      "execution_count": 23,
      "outputs": [
        {
          "output_type": "stream",
          "name": "stdout",
          "text": [
            "\"削除後のリスト :  [1, 3, 2, 4, 6, 5, 8, 7]\n"
          ]
        }
      ]
    },
    {
      "cell_type": "markdown",
      "metadata": {
        "id": "kwVIJeNcIWG2"
      },
      "source": [
        "## 問題48. "
      ]
    },
    {
      "cell_type": "markdown",
      "metadata": {
        "id": "7H0hbHEDpMuH"
      },
      "source": [
        "以下のリストで電話番号が080で始まる要素だけ取り出すプログラムを作成してください。(※適当に作成した電話番号なので、電話しないようにしてください。)\n",
        "\n",
        "※使用するリスト : \n",
        "```\n",
        "telephone_numbers = ['080-1203-4455', '090-9372-9682', '090-3080-4982', '080-3917-5918']\n",
        "```\n",
        "\n",
        "▼期待する出力\n",
        "```\n",
        "080で始まる電話番号 : ['080-1203-4455', '080-3917-5918']\n",
        "```"
      ]
    },
    {
      "cell_type": "code",
      "metadata": {
        "id": "KGfiFmacJvIH",
        "colab": {
          "base_uri": "https://localhost:8080/"
        },
        "outputId": "3ef6f99b-d0a7-4f75-96c7-c62176d8eba8"
      },
      "source": [
        "telephone_numbers = ['080-1203-4455', '090-9372-9682', '090-3080-4982', '080-3917-5918']\n",
        "new_l = [s for s in telephone_numbers if '080' in s[:3]]\n",
        "print(f'080で始まる電話番号 : {new_l}')"
      ],
      "execution_count": 25,
      "outputs": [
        {
          "output_type": "stream",
          "name": "stdout",
          "text": [
            "080で始まる電話番号 : ['080-1203-4455', '080-3917-5918']\n"
          ]
        }
      ]
    },
    {
      "cell_type": "markdown",
      "metadata": {
        "id": "8P0bUcgaJ4fu"
      },
      "source": [
        "## 問題49. "
      ]
    },
    {
      "cell_type": "markdown",
      "metadata": {
        "id": "_Ff7bqgLpOJF"
      },
      "source": [
        "以下のリストで、携帯電話の番号だけ取り出すプログラムを作成してください。(※適当に作成した電話番号なので、電話しないようにしてください。)\n",
        "\n",
        "※使用するリスト : \n",
        "```\n",
        "phone_numbers = ['080-1203-4455', '090-9372-9682', '03-9471-5929', '070-3917-5918', '04-8572-8910']\n",
        "```\n",
        "\n",
        "▼期待する出力\n",
        "```\n",
        "携帯電話の番号 : ['080-1203-4455', '090-9372-9682', '070-3917-5918']\n",
        "```"
      ]
    },
    {
      "cell_type": "code",
      "metadata": {
        "id": "shpSrxVcKLjK",
        "colab": {
          "base_uri": "https://localhost:8080/"
        },
        "outputId": "57a353d0-2f33-4cd4-eb2f-f8dcfa134cf7"
      },
      "source": [
        "phone_numbers = ['080-1203-4455', '090-9372-9682', '03-9471-5929', '070-3917-5918', '04-8572-8910']\n",
        "new_l = [s for s in phone_numbers if s.find('-') == 3]\n",
        "print(f'携帯電話の番号 : {new_l}')"
      ],
      "execution_count": 26,
      "outputs": [
        {
          "output_type": "stream",
          "name": "stdout",
          "text": [
            "携帯電話の番号 : ['080-1203-4455', '090-9372-9682', '070-3917-5918']\n"
          ]
        }
      ]
    },
    {
      "cell_type": "markdown",
      "metadata": {
        "id": "cKtYyvgPKWkv"
      },
      "source": [
        "## 問題50. "
      ]
    },
    {
      "cell_type": "markdown",
      "metadata": {
        "id": "n3qojBWWpPl-"
      },
      "source": [
        "以下の3つのリストで、最も平均値が高いリストを出力するプログラムを作成してください。(※変数の定義を除いて、3行で書けるとベストです！)\n",
        "\n",
        "※使用するリスト :\n",
        "```\n",
        "l1 = [4, 6, 9, 2]\n",
        "l2 = [3, 5, 7]\n",
        "l3 = [1, 9, 7]\n",
        "```\n",
        "\n",
        "▼期待する出力:\n",
        "```\n",
        "平均値が最も高いリスト : [1, 9, 7]\n",
        "```"
      ]
    },
    {
      "cell_type": "code",
      "metadata": {
        "id": "78Myu7JkKWiA",
        "colab": {
          "base_uri": "https://localhost:8080/"
        },
        "outputId": "a828134e-7139-40a5-fedc-601ee91bdb9b"
      },
      "source": [
        "l1 = [4, 6, 9, 2]\n",
        "l2 = [3, 5, 7]\n",
        "l3 = [1, 9, 7]\n",
        "l = [l1,l2, l3]\n",
        "\n",
        "new_l = sorted(l, key = lambda v: sum(v)/len(v), reverse=True)\n",
        "print(f'平均値が最も高いリスト :  {new_l[0]}')"
      ],
      "execution_count": 29,
      "outputs": [
        {
          "output_type": "stream",
          "name": "stdout",
          "text": [
            "平均値が最も高いリスト :  [1, 9, 7]\n"
          ]
        }
      ]
    },
    {
      "cell_type": "code",
      "metadata": {
        "id": "jmy5NX2zHNWm"
      },
      "source": [],
      "execution_count": null,
      "outputs": []
    }
  ]
}