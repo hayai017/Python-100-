{
  "nbformat": 4,
  "nbformat_minor": 0,
  "metadata": {
    "colab": {
      "provenance": [],
      "collapsed_sections": [
        "bGd83NSeIf2E",
        "bUQ6mN1gIiZN",
        "kx6tn5sgIj47",
        "muRPxQzaIlo9",
        "c86ub42YInd1",
        "HWLXqyZaIow4",
        "9v0_kek7IqFV",
        "adr7WPstIrYp",
        "B3P6d3A1IswB"
      ]
    },
    "kernelspec": {
      "name": "python3",
      "display_name": "Python 3"
    },
    "language_info": {
      "name": "python"
    }
  },
  "cells": [
    {
      "cell_type": "markdown",
      "metadata": {
        "id": "A6M2JXuskzsZ"
      },
      "source": [
        "# まずはここから！Pythonの基本文法【10問】"
      ]
    },
    {
      "cell_type": "markdown",
      "metadata": {
        "id": "1rHWBZeLIcR3"
      },
      "source": [
        "## 問題1. "
      ]
    },
    {
      "cell_type": "markdown",
      "metadata": {
        "id": "-xTq-Jwtktvc"
      },
      "source": [
        "数字の7と3に対して、以下の出力になるように四則演算をおこなってください。\n",
        "\n",
        "割り算については、①余りを出力するパターンと②割り切るパターンの2通り計算しましょう。\n",
        "\n",
        "```\n",
        "7 + 3 = 10\n",
        "7 - 3 = 4\n",
        "7 × 3 = 21\n",
        "7 ÷ 3 = 2 余り 1\n",
        "7 ÷ 3 = 2.3333333333333335\n",
        "```"
      ]
    },
    {
      "cell_type": "code",
      "metadata": {
        "id": "-56A8E3SkysT",
        "colab": {
          "base_uri": "https://localhost:8080/"
        },
        "outputId": "28df88e4-af11-4842-c0c6-b93132af3872"
      },
      "source": [
        "a=7\n",
        "b=3\n",
        "\n",
        "print(f'{a} + {b} = {a+b}')\n",
        "print(f'{a} - {b} = {a-b}')\n",
        "print(f'{a} × {b} = {a*b} ' )\n",
        "print(f'{a} ÷ {b} = {int(a/b)} 余り {a%b} ')\n",
        "print(f'{a} ÷ {b} = {a/b} 余り {a%b} ')"
      ],
      "execution_count": 9,
      "outputs": [
        {
          "output_type": "stream",
          "name": "stdout",
          "text": [
            "7 + 3 = 10\n",
            "7 - 3 = 4\n",
            "7 × 3 = 21 \n",
            "7 ÷ 3 = 2 余り 1 \n",
            "7 ÷ 3 = 2.3333333333333335 余り 1 \n"
          ]
        }
      ]
    },
    {
      "cell_type": "markdown",
      "metadata": {
        "id": "bGd83NSeIf2E"
      },
      "source": [
        "## 問題2. "
      ]
    },
    {
      "cell_type": "markdown",
      "metadata": {
        "id": "ti030eVik7mx"
      },
      "source": [
        "好きな文字を入力して、以下のように入力した文字を出力するプログラムを作成しましょう。\n",
        "\n",
        "```\n",
        "好きな文字を入力してください > Python\n",
        "入力された文字 : Python\n",
        "```\n"
      ]
    },
    {
      "cell_type": "code",
      "metadata": {
        "id": "7coqHSb6lUsw",
        "colab": {
          "base_uri": "https://localhost:8080/"
        },
        "outputId": "c30a4694-64ea-410a-9df9-dd744050dbab"
      },
      "source": [
        "n = input('好きな文字を入力してください>')\n",
        "print(f'入力された文字:{n}')"
      ],
      "execution_count": 12,
      "outputs": [
        {
          "output_type": "stream",
          "name": "stdout",
          "text": [
            "好きな文字を入力してください>Python\n",
            "好きな文字を入力してください>Python\n",
            "入力された文字:Python\n"
          ]
        }
      ]
    },
    {
      "cell_type": "markdown",
      "metadata": {
        "id": "bUQ6mN1gIiZN"
      },
      "source": [
        "## 問題3. "
      ]
    },
    {
      "cell_type": "markdown",
      "metadata": {
        "id": "-sgKO52mlbEk"
      },
      "source": [
        "好きな整数を入力して、以下のように二乗値を出力するプログラムを作成しましょう。\n",
        "\n",
        "例 : 3が入力された場合 ⇒ 9(=3の二乗)を出力\n",
        "\n",
        "```\n",
        "好きな整数を入力してください > 3\n",
        "3の二乗値 : 9\n",
        "```"
      ]
    },
    {
      "cell_type": "code",
      "metadata": {
        "id": "xbJiNQyDllJ5",
        "colab": {
          "base_uri": "https://localhost:8080/"
        },
        "outputId": "52efd046-e2d1-4e6e-b00a-72a10eefc56d"
      },
      "source": [
        "input_num=input('好きな整数を入力してください >')\n",
        "print(f'{input_num}の二乗値：{int(input_num) * int(input_num) }')"
      ],
      "execution_count": 16,
      "outputs": [
        {
          "output_type": "stream",
          "name": "stdout",
          "text": [
            "好きな整数を入力してください >3\n",
            "3の二乗値：9\n"
          ]
        }
      ]
    },
    {
      "cell_type": "code",
      "source": [
        "input_num=int(input('好きな整数を入力してください >'))\n",
        "print(f'{input_num}の二乗値：{input_num**2}')"
      ],
      "metadata": {
        "colab": {
          "base_uri": "https://localhost:8080/"
        },
        "id": "wuvhYk2GRzaO",
        "outputId": "85faf2f4-2396-4b61-c286-3f849c587efc"
      },
      "execution_count": 17,
      "outputs": [
        {
          "output_type": "stream",
          "name": "stdout",
          "text": [
            "好きな整数を入力してください >3\n",
            "3の二乗値：9\n"
          ]
        }
      ]
    },
    {
      "cell_type": "markdown",
      "metadata": {
        "id": "kx6tn5sgIj47"
      },
      "source": [
        "## 問題4. "
      ]
    },
    {
      "cell_type": "markdown",
      "metadata": {
        "id": "Bwbl8Yfklsg7"
      },
      "source": [
        "for文を使って数字の1から30を出力するプログラムを作成しましょう。\n",
        "\n",
        "※2行でコーディングできると素晴らしいです！\n",
        "\n",
        "```\n",
        "1\n",
        "2\n",
        "（中略）\n",
        "29\n",
        "30\n",
        "```"
      ]
    },
    {
      "cell_type": "code",
      "metadata": {
        "id": "uZ19PluMmE-h",
        "colab": {
          "base_uri": "https://localhost:8080/"
        },
        "outputId": "f547da9d-7b5c-44fb-9a15-3d3dfe114fd1"
      },
      "source": [
        "for i in range(1, 31):\n",
        "  print(i)"
      ],
      "execution_count": 20,
      "outputs": [
        {
          "output_type": "stream",
          "name": "stdout",
          "text": [
            "1\n",
            "2\n",
            "3\n",
            "4\n",
            "5\n",
            "6\n",
            "7\n",
            "8\n",
            "9\n",
            "10\n",
            "11\n",
            "12\n",
            "13\n",
            "14\n",
            "15\n",
            "16\n",
            "17\n",
            "18\n",
            "19\n",
            "20\n",
            "21\n",
            "22\n",
            "23\n",
            "24\n",
            "25\n",
            "26\n",
            "27\n",
            "28\n",
            "29\n",
            "30\n"
          ]
        }
      ]
    },
    {
      "cell_type": "markdown",
      "metadata": {
        "id": "muRPxQzaIlo9"
      },
      "source": [
        "## 問題5."
      ]
    },
    {
      "cell_type": "markdown",
      "metadata": {
        "id": "jLP9kXr4mIz-"
      },
      "source": [
        "while文を使って数字の1から30を出力するプログラムを作成しましょう。\n",
        "\n",
        "※4行でコーディングできると素晴らしいです！\n",
        "\n",
        "```\n",
        "1\n",
        "2\n",
        "(中略)\n",
        "29\n",
        "30\n",
        "```"
      ]
    },
    {
      "cell_type": "code",
      "metadata": {
        "id": "d3gbzvHFnW5k",
        "colab": {
          "base_uri": "https://localhost:8080/"
        },
        "outputId": "d5178e85-652f-4933-8502-a7ec7c4c0d06"
      },
      "source": [
        "i = 1\n",
        "while i < 31:\n",
        "  print(f'{i}')\n",
        "  i= i + 1"
      ],
      "execution_count": 21,
      "outputs": [
        {
          "output_type": "stream",
          "name": "stdout",
          "text": [
            "1\n",
            "2\n",
            "3\n",
            "4\n",
            "5\n",
            "6\n",
            "7\n",
            "8\n",
            "9\n",
            "10\n",
            "11\n",
            "12\n",
            "13\n",
            "14\n",
            "15\n",
            "16\n",
            "17\n",
            "18\n",
            "19\n",
            "20\n",
            "21\n",
            "22\n",
            "23\n",
            "24\n",
            "25\n",
            "26\n",
            "27\n",
            "28\n",
            "29\n",
            "30\n"
          ]
        }
      ]
    },
    {
      "cell_type": "code",
      "source": [
        "i = 0\n",
        "while i < 30:\n",
        "  i += 1\n",
        "  print(i)"
      ],
      "metadata": {
        "colab": {
          "base_uri": "https://localhost:8080/"
        },
        "id": "EZtp9z7aUAsr",
        "outputId": "b9d633b8-b4c9-488e-a49f-062e56247ac4"
      },
      "execution_count": 22,
      "outputs": [
        {
          "output_type": "stream",
          "name": "stdout",
          "text": [
            "1\n",
            "2\n",
            "3\n",
            "4\n",
            "5\n",
            "6\n",
            "7\n",
            "8\n",
            "9\n",
            "10\n",
            "11\n",
            "12\n",
            "13\n",
            "14\n",
            "15\n",
            "16\n",
            "17\n",
            "18\n",
            "19\n",
            "20\n",
            "21\n",
            "22\n",
            "23\n",
            "24\n",
            "25\n",
            "26\n",
            "27\n",
            "28\n",
            "29\n",
            "30\n"
          ]
        }
      ]
    },
    {
      "cell_type": "markdown",
      "metadata": {
        "id": "c86ub42YInd1"
      },
      "source": [
        "## 問題6. "
      ]
    },
    {
      "cell_type": "markdown",
      "metadata": {
        "id": "gJNeQX2EnsHf"
      },
      "source": [
        "数字の1から30のうち、3の倍数だけ出力するプログラムを作成しましょう。\n",
        "\n",
        "```\n",
        "3\n",
        "6\n",
        "9\n",
        "12\n",
        "15\n",
        "18\n",
        "21\n",
        "24\n",
        "27\n",
        "30\n",
        "```"
      ]
    },
    {
      "cell_type": "code",
      "metadata": {
        "id": "6StWLlYyn6YV",
        "colab": {
          "base_uri": "https://localhost:8080/"
        },
        "outputId": "f072e26f-d6bd-4931-f87b-6d5584f1bd08"
      },
      "source": [
        "for i in range(1,31):\n",
        "  if i%3 == 0:\n",
        "    print(i)"
      ],
      "execution_count": 23,
      "outputs": [
        {
          "output_type": "stream",
          "name": "stdout",
          "text": [
            "3\n",
            "6\n",
            "9\n",
            "12\n",
            "15\n",
            "18\n",
            "21\n",
            "24\n",
            "27\n",
            "30\n"
          ]
        }
      ]
    },
    {
      "cell_type": "markdown",
      "metadata": {
        "id": "HWLXqyZaIow4"
      },
      "source": [
        "## 問題7"
      ]
    },
    {
      "cell_type": "markdown",
      "metadata": {
        "id": "NmfV0MejoBiN"
      },
      "source": [
        "数字の1から30のうち、\n",
        "\n",
        "- 3の倍数のとき”fizz”\n",
        "- 5の倍数のとき”buzz”\n",
        "- 15の倍数のとき”fizzbuzz”\n",
        "- その他の場合は数字\n",
        "\n",
        "を出力するプログラムを作成しましょう。\n",
        "\n",
        "```\n",
        "1\n",
        "2\n",
        "fizz\n",
        "4\n",
        "buzz\n",
        "(中略)\n",
        "28\n",
        "29\n",
        "fizzbuzz\n",
        "```"
      ]
    },
    {
      "cell_type": "code",
      "metadata": {
        "id": "qy9i530joHqj",
        "colab": {
          "base_uri": "https://localhost:8080/"
        },
        "outputId": "906cbeb7-9753-4e3e-a0be-9387b9701895"
      },
      "source": [
        "for i in range(1,31):\n",
        "  if i%15==0:\n",
        "    print('fizzbuzz')\n",
        "  elif i%3==0:\n",
        "    print('fizz')\n",
        "  elif i%5==0:\n",
        "    print('buzz')\n",
        "  else:\n",
        "    print(i)\n"
      ],
      "execution_count": 24,
      "outputs": [
        {
          "output_type": "stream",
          "name": "stdout",
          "text": [
            "1\n",
            "2\n",
            "fizz\n",
            "4\n",
            "buzz\n",
            "fizz\n",
            "7\n",
            "8\n",
            "fizz\n",
            "buzz\n",
            "11\n",
            "fizz\n",
            "13\n",
            "14\n",
            "fizzbuzz\n",
            "16\n",
            "17\n",
            "fizz\n",
            "19\n",
            "buzz\n",
            "fizz\n",
            "22\n",
            "23\n",
            "fizz\n",
            "buzz\n",
            "26\n",
            "fizz\n",
            "28\n",
            "29\n",
            "fizzbuzz\n"
          ]
        }
      ]
    },
    {
      "cell_type": "markdown",
      "metadata": {
        "id": "9v0_kek7IqFV"
      },
      "source": [
        "## 問題8. "
      ]
    },
    {
      "cell_type": "markdown",
      "metadata": {
        "id": "riMJ8dXvoYLE"
      },
      "source": [
        "数字の1から30のうち、3の倍数だけを格納した「リスト」を作成して、表示しましょう。\n",
        "\n",
        "```\n",
        "作成したリスト : [3, 6, 9, 12, 15, 18, 21, 24, 27, 30]\n",
        "```"
      ]
    },
    {
      "cell_type": "code",
      "metadata": {
        "id": "r0Aewye5ojE2",
        "colab": {
          "base_uri": "https://localhost:8080/"
        },
        "outputId": "b6ebac2e-4a90-4e75-cc46-6ca44d68028f"
      },
      "source": [
        "numlist=list()\n",
        "for i in range(1,31):\n",
        "  if i%3==0:\n",
        "    numlist.append(i)\n",
        "print(f'作成したリスト:{numlist}')"
      ],
      "execution_count": 28,
      "outputs": [
        {
          "output_type": "stream",
          "name": "stdout",
          "text": [
            "作成したリスト:[3, 6, 9, 12, 15, 18, 21, 24, 27, 30]\n"
          ]
        }
      ]
    },
    {
      "cell_type": "markdown",
      "metadata": {
        "id": "adr7WPstIrYp"
      },
      "source": [
        "## 問題9. "
      ]
    },
    {
      "cell_type": "markdown",
      "metadata": {
        "id": "w5nJ0lGdo6jb"
      },
      "source": [
        "数字の1から30のうち、3の倍数を持つ「辞書」を作成しましょう。\n",
        "\n",
        "作成する辞書は、以下のように{◯番目 : 数値}の形にします。\n",
        "\n",
        "```\n",
        "作成した辞書 : {'1番目': 3, '2番目': 6, '3番目': 9, '4番目': 12, '5番目': 15, '6番目': 18, '7番目': 21, '8番目': 24, '9番目': 27, '10番目': 30}\n",
        "```"
      ]
    },
    {
      "cell_type": "code",
      "metadata": {
        "id": "Z_2H_zxEpKQv",
        "colab": {
          "base_uri": "https://localhost:8080/"
        },
        "outputId": "9c9f5575-5e47-46cd-aaad-27681e108cd6"
      },
      "source": [
        "d = {}\n",
        "for i in range(1,31):\n",
        "  if i % 3 == 0:\n",
        "    index = f'{i//3}番目'\n",
        "    d[index] = i\n",
        "\n",
        "print(f'作成した辞書：{d}')"
      ],
      "execution_count": 29,
      "outputs": [
        {
          "output_type": "stream",
          "name": "stdout",
          "text": [
            "作成した辞書：{'1番目': 3, '2番目': 6, '3番目': 9, '4番目': 12, '5番目': 15, '6番目': 18, '7番目': 21, '8番目': 24, '9番目': 27, '10番目': 30}\n"
          ]
        }
      ]
    },
    {
      "cell_type": "markdown",
      "metadata": {
        "id": "B3P6d3A1IswB"
      },
      "source": [
        "## 問題10. "
      ]
    },
    {
      "cell_type": "markdown",
      "metadata": {
        "id": "d4cUa2-ApiHp"
      },
      "source": [
        "数字の1から40のうち、3の倍数かつ\"3\"が付く数字だけを格納した「リスト」を作成して、表示しましょう。\n",
        "\n",
        "```\n",
        "作成したリスト : [3, 30, 33, 36, 39]\n",
        "```"
      ]
    },
    {
      "cell_type": "code",
      "metadata": {
        "id": "3OZj7695qIT7",
        "colab": {
          "base_uri": "https://localhost:8080/"
        },
        "outputId": "d87a9007-c30f-4b35-dcd9-6473da0e9b61"
      },
      "source": [
        "l=[]\n",
        "for i in range(1,41):\n",
        "  if i%3 == 0 and '3' in str(i):\n",
        "    l.append(i)\n",
        "print(f'作成したリスト:{l}')"
      ],
      "execution_count": 34,
      "outputs": [
        {
          "output_type": "stream",
          "name": "stdout",
          "text": [
            "作成したリスト:[3, 30, 33, 36, 39]\n"
          ]
        }
      ]
    },
    {
      "cell_type": "code",
      "source": [],
      "metadata": {
        "id": "2jUce6Dpd7LB"
      },
      "execution_count": null,
      "outputs": []
    }
  ]
}